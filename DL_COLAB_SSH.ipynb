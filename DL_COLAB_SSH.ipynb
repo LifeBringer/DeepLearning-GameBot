{
  "nbformat": 4,
  "nbformat_minor": 2,
  "metadata": {
    "colab": {
      "name": "cs342_colab_root.ipynb",
      "provenance": [],
      "collapsed_sections": [],
      "machine_shape": "hm"
    },
    "kernelspec": {
      "display_name": "Python 3",
      "language": "python",
      "name": "python3"
    },
    "language_info": {
      "codemirror_mode": {
        "name": "ipython",
        "version": 3
      },
      "file_extension": ".py",
      "mimetype": "text/x-python",
      "name": "python",
      "nbconvert_exporter": "python",
      "pygments_lexer": "ipython3",
      "version": "3.7.3"
    },
    "accelerator": "GPU"
  },
  "cells": [
    {
      "cell_type": "markdown",
      "source": [
        "# CS342: Colab REMOTE SSH\n",
        "\n",
        "This workflow also assumes you will do all development on your machine, then use Colab only for training and grading.\n",
        "\n",
        "Feel free to extend/modify the notebook to help your workflow.\n",
        "\n",
        "## 1. One time setup (per session)\n",
        "\n",
        "This cell does all the things you only need to do one time -\n",
        "\n",
        "* Clone\n",
        "* Prepare data\n",
        "* Run tensorboard"
      ],
      "metadata": {
        "id": "JbJiCHZHBJ-x"
      }
    },
    {
      "cell_type": "code",
      "execution_count": null,
      "source": [
        "# LOAD FROM GOOGLE DRIVE INSTEAD OF GITHUB\r\n",
        "from google.colab import drive\r\n",
        "drive.mount('/content/drive/', force_remount=True)"
      ],
      "outputs": [
        {
          "output_type": "stream",
          "name": "stdout",
          "text": [
            "Mounted at /content/drive/\n"
          ]
        }
      ],
      "metadata": {
        "colab": {
          "base_uri": "https://localhost:8080/"
        },
        "id": "63SatBxodFG3",
        "outputId": "cb5bc831-ac39-4d63-b300-67a49bcff090"
      }
    },
    {
      "cell_type": "code",
      "execution_count": null,
      "source": [
        "# PATH TO ROOT HOMEWORK FOLDER\r\n",
        "%cd /content/drive/MyDrive/UTAustin/DL/"
      ],
      "outputs": [
        {
          "output_type": "stream",
          "name": "stdout",
          "text": [
            "/content/drive/MyDrive/UTAustin/DL\n"
          ]
        }
      ],
      "metadata": {
        "colab": {
          "base_uri": "https://localhost:8080/"
        },
        "id": "BMXm45fHlNgt",
        "outputId": "f53c6fe7-f49e-4f40-de50-8736dd112d42"
      }
    },
    {
      "cell_type": "code",
      "execution_count": null,
      "source": [
        "# LOAD HOMEWORK\r\n",
        "import os\r\n",
        "\r\n",
        "os.environ['USER'] = ''\r\n",
        "os.environ['PASS'] = ''\r\n",
        "os.environ['REPO'] = 'cs342'\r\n",
        "GH_email = ''\r\n",
        "\r\n",
        "# PATH TO HOMEWORK\r\n",
        "%cd cs342/extra/\r\n",
        "\r\n"
      ],
      "outputs": [
        {
          "output_type": "stream",
          "name": "stdout",
          "text": [
            "/content/drive/MyDrive/UTAustin/DL/cs342/extra\n"
          ]
        }
      ],
      "metadata": {
        "id": "fepOtd0ReeXu",
        "colab": {
          "base_uri": "https://localhost:8080/"
        },
        "outputId": "c6ab6597-20ee-49e5-e80e-721c3bfc925f"
      }
    },
    {
      "cell_type": "code",
      "execution_count": null,
      "source": [
        "%cd extra"
      ],
      "outputs": [
        {
          "output_type": "stream",
          "name": "stdout",
          "text": [
            "/content/drive/My Drive/UTAustin/DL/cs342/extra\n"
          ]
        }
      ],
      "metadata": {
        "colab": {
          "base_uri": "https://localhost:8080/"
        },
        "id": "mQRONu-mCPII",
        "outputId": "27676fa1-9726-4073-fd3b-1ab6c4039983"
      }
    },
    {
      "cell_type": "code",
      "execution_count": null,
      "source": [
        "# Install colab_ssh on google colab\r\n",
        "!pip install colab_ssh --upgrade # IN CASE colab-ssh'S NOT INSTALLED\r\n",
        "\r\n",
        "# FIRST\r\n",
        "\r\n",
        "from colab_ssh import launch_ssh_cloudflared, init_git_cloudflared\r\n",
        "launch_ssh_cloudflared(password=\"magical-mike\")\r\n",
        "\r\n",
        "# Optional (GITHUB): LOAD A clone FROM github repository\r\n",
        "'''\r\n",
        "init_git_cloudflared(githubRepositoryUrl)\r\n",
        "\r\n",
        "init_git_cloudflared(\"https://github.com/$USER/$REPO.git\",\r\n",
        "         personal_token=$PASS, \r\n",
        "         branch=\"<YOUR_BRANCH>\",\r\n",
        "         email=GH_email,\r\n",
        "         username=$USER)\r\n",
        "'''"
      ],
      "outputs": [
        {
          "output_type": "stream",
          "name": "stdout",
          "text": [
            "Requirement already satisfied: colab_ssh in /usr/local/lib/python3.7/dist-packages (0.3.17)\n"
          ]
        },
        {
          "output_type": "display_data",
          "data": {
            "text/plain": [
              "<IPython.core.display.HTML object>"
            ],
            "text/html": [
              "<style>\n",
              "*{\n",
              "\toutline:none;\n",
              "}\n",
              "code{\n",
              "\tdisplay:inline-block;\n",
              "\tpadding:5px 10px;\n",
              "\tbackground: #444;\n",
              "\tborder-radius: 4px;\n",
              "\twhite-space: pre-wrap;\n",
              "\tposition:relative;\n",
              "\tcolor:white;\n",
              "}\n",
              ".copy-code-button{\n",
              "\tfloat:right;\n",
              "\tbackground:#333;\n",
              "\tcolor:white;\n",
              "\tborder: none;\n",
              "\tmargin: 0 0 0 10px;\n",
              "\tcursor: pointer;\n",
              "}\n",
              "p, li{\n",
              "\tmax-width:700px;\n",
              "}\n",
              ".choices{\n",
              "\tdisplay:flex;\n",
              "\tflex: 1 0 auto;\n",
              "}\n",
              ".choice-section{\n",
              "\tborder:solid 1px #555;\n",
              "\tborder-radius: 4px;\n",
              "\tmin-width:300px;\n",
              "\tmargin: 10px 15px 0 0;\n",
              "\tpadding: 0 15px 15px 15px ;\n",
              "}\n",
              ".button{\n",
              "\tpadding: 10px 15px;\n",
              "\tbackground:#333;\n",
              "\tborder-radius: 4px;\n",
              "\tborder:solid 1px #555;\n",
              "\tcolor:white;\n",
              "\tfont-weight:bold;\n",
              "\tcursor:pointer;\n",
              "}\n",
              ".pill{\n",
              "\tpadding:2px 4px;\n",
              "\tborder-radius: 100px;\n",
              "\tbackground-color:#e65858;\n",
              "\tfont-size:12px;\n",
              "\tfont-weight:bold;\n",
              "\tmargin: 0 15px;\n",
              "\tcolor:white;\n",
              "}\n",
              "</style>\n",
              "<details class=\"choice-section\">\n",
              "\t<summary style=\"cursor:pointer\">\n",
              "\t\t<h3 style=\"display:inline-block;margin-top:15px\">⚙️ Client machine configuration<span class=\"pill\">Required</span></h3>\n",
              "\t</summary>\n",
              "\t<p>Don't worry, you only have to do this <b>once per client machine</b>.</p>\n",
              "\t<ol>\n",
              "\t\t<li>Download <a href=\"https://developers.cloudflare.com/argo-tunnel/getting-started/installation\">Cloudflared (Argo Tunnel)</a>, then copy the absolute path to the cloudflare binary</li>\n",
              "\t\t<li>Now, you have to append the following to your SSH config file (usually under ~/.ssh/config):</li>\n",
              "\t</ol>\n",
              "\t<code>Host *.trycloudflare.com\n",
              "\tHostName %h\n",
              "\tUser root\n",
              "\tPort 22\n",
              "\tProxyCommand &ltPUT_THE_ABSOLUTE_CLOUDFLARE_PATH_HERE&gt access ssh --hostname %h\n",
              "\t</code>\n",
              "</details>\n",
              "<div class=\"choices\">\n",
              "\t<div class=\"choice-section\">\n",
              "\t\t<h4>SSH Terminal</h4>\n",
              "\t\t<p>To connect using your terminal, type this command:</p>\n",
              "\t\t<code>ssh https://robinson-welfare-duck-daisy.trycloudflare.com</code>\n",
              "\t</div>\n",
              "\t<div class=\"choice-section\">\n",
              "\t\t<h4>VSCode Remote SSH</h4>\n",
              "\t\t<p>You can also connect with VSCode Remote SSH (Ctrl+Shift+P and type \"Connect to Host...\"). Then, paste the following hostname in the opened command palette:</p>\n",
              "\t\t<code>https://robinson-welfare-duck-daisy.trycloudflare.com</code>\n",
              "\t</div>\n",
              "</div>\n",
              "\n",
              "<script>\n",
              "// Copy any string\n",
              "function fallbackCopyTextToClipboard(text) {\n",
              "  var textArea = document.createElement(\"textarea\");\n",
              "  textArea.value = text;\n",
              "  \n",
              "  // Avoid scrolling to bottom\n",
              "  textArea.style.top = \"0\";\n",
              "  textArea.style.left = \"0\";\n",
              "  textArea.style.position = \"fixed\";\n",
              "\n",
              "  document.body.appendChild(textArea);\n",
              "  textArea.focus();\n",
              "  textArea.select();\n",
              "\n",
              "  try {\n",
              "    var successful = document.execCommand('copy');\n",
              "    var msg = successful ? 'successful' : 'unsuccessful';\n",
              "    console.log('Fallback: Copying text command was ' + msg);\n",
              "  } catch (err) {\n",
              "    console.error('Fallback: Oops, unable to copy', err);\n",
              "  }\n",
              "\n",
              "  document.body.removeChild(textArea);\n",
              "}\n",
              "\n",
              "// Show the copy button with every code tag\n",
              "document.querySelectorAll('code').forEach(function (codeBlock) {\n",
              "\tconst codeToCopy= codeBlock.innerText;\n",
              "\tvar pre = document.createElement('pre');\n",
              "\tpre.innerText = codeToCopy;\n",
              "    var button = document.createElement('button');\n",
              "    button.className = 'copy-code-button';\n",
              "    button.type = 'button';\n",
              "    button.innerText = 'Copy';\n",
              "\tbutton.onclick = function(){\n",
              "\t\tfallbackCopyTextToClipboard(codeToCopy);\n",
              "\t\tbutton.innerText = 'Copied'\n",
              "\t\tsetTimeout(()=>{\n",
              "\t\t\tbutton.innerText = 'Copy'\n",
              "\t\t},2000)\n",
              "\t}\n",
              "\tcodeBlock.children = pre;\n",
              "\tcodeBlock.prepend(button)\n",
              "});\n",
              "</script>"
            ]
          },
          "metadata": {
            "tags": []
          }
        },
        {
          "output_type": "execute_result",
          "data": {
            "text/plain": [
              "'\\ninit_git_cloudflared(githubRepositoryUrl)\\n\\ninit_git_cloudflared(\"https://github.com/$USER/$REPO.git\",\\n         personal_token=$PASS, \\n         branch=\"<YOUR_BRANCH>\",\\n         email=GH_email,\\n         username=$USER)\\n'"
            ],
            "application/vnd.google.colaboratory.intrinsic+json": {
              "type": "string"
            }
          },
          "metadata": {
            "tags": []
          },
          "execution_count": 7
        }
      ],
      "metadata": {
        "colab": {
          "base_uri": "https://localhost:8080/",
          "height": 271
        },
        "id": "riPr5mJ6TsJE",
        "outputId": "f6d54e8c-d4ac-4ffa-c36a-c66da5a5f0a1"
      }
    },
    {
      "cell_type": "code",
      "execution_count": null,
      "source": [
        "# INSTALL REQUIREMENTS\r\n",
        "!python3 -m pip install -r requirements.txt"
      ],
      "outputs": [
        {
          "output_type": "stream",
          "name": "stdout",
          "text": [
            "Requirement already satisfied: Pillow in /usr/local/lib/python3.7/dist-packages (from -r requirements.txt (line 1)) (7.1.2)\n",
            "Requirement already satisfied: future in /usr/local/lib/python3.7/dist-packages (from -r requirements.txt (line 2)) (0.16.0)\n",
            "Requirement already satisfied: matplotlib in /usr/local/lib/python3.7/dist-packages (from -r requirements.txt (line 3)) (3.2.2)\n",
            "Requirement already satisfied: numpy in /usr/local/lib/python3.7/dist-packages (from -r requirements.txt (line 4)) (1.19.5)\n",
            "Requirement already satisfied: tensorboard>=1.14 in /usr/local/lib/python3.7/dist-packages (from -r requirements.txt (line 5)) (2.5.0)\n",
            "Requirement already satisfied: torch>=1.6.0 in /usr/local/lib/python3.7/dist-packages (from -r requirements.txt (line 6)) (1.9.0+cu102)\n",
            "Requirement already satisfied: torchvision>=0.7.0 in /usr/local/lib/python3.7/dist-packages (from -r requirements.txt (line 7)) (0.10.0+cu102)\n",
            "Requirement already satisfied: tensorboard-data-server<0.7.0,>=0.6.0 in /usr/local/lib/python3.7/dist-packages (from tensorboard>=1.14->-r requirements.txt (line 5)) (0.6.1)\n",
            "Requirement already satisfied: absl-py>=0.4 in /usr/local/lib/python3.7/dist-packages (from tensorboard>=1.14->-r requirements.txt (line 5)) (0.12.0)\n",
            "Requirement already satisfied: google-auth-oauthlib<0.5,>=0.4.1 in /usr/local/lib/python3.7/dist-packages (from tensorboard>=1.14->-r requirements.txt (line 5)) (0.4.4)\n",
            "Requirement already satisfied: requests<3,>=2.21.0 in /usr/local/lib/python3.7/dist-packages (from tensorboard>=1.14->-r requirements.txt (line 5)) (2.23.0)\n",
            "Requirement already satisfied: grpcio>=1.24.3 in /usr/local/lib/python3.7/dist-packages (from tensorboard>=1.14->-r requirements.txt (line 5)) (1.34.1)\n",
            "Requirement already satisfied: tensorboard-plugin-wit>=1.6.0 in /usr/local/lib/python3.7/dist-packages (from tensorboard>=1.14->-r requirements.txt (line 5)) (1.8.0)\n",
            "Requirement already satisfied: werkzeug>=0.11.15 in /usr/local/lib/python3.7/dist-packages (from tensorboard>=1.14->-r requirements.txt (line 5)) (1.0.1)\n",
            "Requirement already satisfied: markdown>=2.6.8 in /usr/local/lib/python3.7/dist-packages (from tensorboard>=1.14->-r requirements.txt (line 5)) (3.3.4)\n",
            "Requirement already satisfied: protobuf>=3.6.0 in /usr/local/lib/python3.7/dist-packages (from tensorboard>=1.14->-r requirements.txt (line 5)) (3.17.3)\n",
            "Requirement already satisfied: setuptools>=41.0.0 in /usr/local/lib/python3.7/dist-packages (from tensorboard>=1.14->-r requirements.txt (line 5)) (57.2.0)\n",
            "Requirement already satisfied: wheel>=0.26 in /usr/local/lib/python3.7/dist-packages (from tensorboard>=1.14->-r requirements.txt (line 5)) (0.36.2)\n",
            "Requirement already satisfied: google-auth<2,>=1.6.3 in /usr/local/lib/python3.7/dist-packages (from tensorboard>=1.14->-r requirements.txt (line 5)) (1.32.1)\n",
            "Requirement already satisfied: typing-extensions in /usr/local/lib/python3.7/dist-packages (from torch>=1.6.0->-r requirements.txt (line 6)) (3.7.4.3)\n",
            "Requirement already satisfied: six in /usr/local/lib/python3.7/dist-packages (from absl-py>=0.4->tensorboard>=1.14->-r requirements.txt (line 5)) (1.15.0)\n",
            "Requirement already satisfied: cachetools<5.0,>=2.0.0 in /usr/local/lib/python3.7/dist-packages (from google-auth<2,>=1.6.3->tensorboard>=1.14->-r requirements.txt (line 5)) (4.2.2)\n",
            "Requirement already satisfied: rsa<5,>=3.1.4 in /usr/local/lib/python3.7/dist-packages (from google-auth<2,>=1.6.3->tensorboard>=1.14->-r requirements.txt (line 5)) (4.7.2)\n",
            "Requirement already satisfied: pyasn1-modules>=0.2.1 in /usr/local/lib/python3.7/dist-packages (from google-auth<2,>=1.6.3->tensorboard>=1.14->-r requirements.txt (line 5)) (0.2.8)\n",
            "Requirement already satisfied: requests-oauthlib>=0.7.0 in /usr/local/lib/python3.7/dist-packages (from google-auth-oauthlib<0.5,>=0.4.1->tensorboard>=1.14->-r requirements.txt (line 5)) (1.3.0)\n",
            "Requirement already satisfied: importlib-metadata in /usr/local/lib/python3.7/dist-packages (from markdown>=2.6.8->tensorboard>=1.14->-r requirements.txt (line 5)) (4.6.1)\n",
            "Requirement already satisfied: pyasn1<0.5.0,>=0.4.6 in /usr/local/lib/python3.7/dist-packages (from pyasn1-modules>=0.2.1->google-auth<2,>=1.6.3->tensorboard>=1.14->-r requirements.txt (line 5)) (0.4.8)\n",
            "Requirement already satisfied: idna<3,>=2.5 in /usr/local/lib/python3.7/dist-packages (from requests<3,>=2.21.0->tensorboard>=1.14->-r requirements.txt (line 5)) (2.10)\n",
            "Requirement already satisfied: urllib3!=1.25.0,!=1.25.1,<1.26,>=1.21.1 in /usr/local/lib/python3.7/dist-packages (from requests<3,>=2.21.0->tensorboard>=1.14->-r requirements.txt (line 5)) (1.24.3)\n",
            "Requirement already satisfied: certifi>=2017.4.17 in /usr/local/lib/python3.7/dist-packages (from requests<3,>=2.21.0->tensorboard>=1.14->-r requirements.txt (line 5)) (2021.5.30)\n",
            "Requirement already satisfied: chardet<4,>=3.0.2 in /usr/local/lib/python3.7/dist-packages (from requests<3,>=2.21.0->tensorboard>=1.14->-r requirements.txt (line 5)) (3.0.4)\n",
            "Requirement already satisfied: oauthlib>=3.0.0 in /usr/local/lib/python3.7/dist-packages (from requests-oauthlib>=0.7.0->google-auth-oauthlib<0.5,>=0.4.1->tensorboard>=1.14->-r requirements.txt (line 5)) (3.1.1)\n",
            "Requirement already satisfied: cycler>=0.10 in /usr/local/lib/python3.7/dist-packages (from matplotlib->-r requirements.txt (line 3)) (0.10.0)\n",
            "Requirement already satisfied: python-dateutil>=2.1 in /usr/local/lib/python3.7/dist-packages (from matplotlib->-r requirements.txt (line 3)) (2.8.1)\n",
            "Requirement already satisfied: kiwisolver>=1.0.1 in /usr/local/lib/python3.7/dist-packages (from matplotlib->-r requirements.txt (line 3)) (1.3.1)\n",
            "Requirement already satisfied: pyparsing!=2.0.4,!=2.1.2,!=2.1.6,>=2.0.1 in /usr/local/lib/python3.7/dist-packages (from matplotlib->-r requirements.txt (line 3)) (2.4.7)\n",
            "Requirement already satisfied: zipp>=0.5 in /usr/local/lib/python3.7/dist-packages (from importlib-metadata->markdown>=2.6.8->tensorboard>=1.14->-r requirements.txt (line 5)) (3.5.0)\n"
          ]
        }
      ],
      "metadata": {
        "colab": {
          "base_uri": "https://localhost:8080/"
        },
        "id": "qPnIZHwJxdGC",
        "outputId": "d8c93930-2054-45c1-9c71-a04e360d3080"
      }
    },
    {
      "cell_type": "code",
      "execution_count": null,
      "source": [
        "# LOAD LATEST DATASET NOTE: NOT FOR HW 1-4\r\n",
        "!wget https://www.cs.utexas.edu/~philkr/supertux_classification_trainval.zip\r\n",
        "!wget https://www.cs.utexas.edu/~philkr/supertux_segmentation_trainval.zip\r\n",
        "\r\n",
        "!unzip -q supertux_classification_trainval.zip\r\n",
        "!unzip -q supertux_segmentation_trainval.zip"
      ],
      "outputs": [],
      "metadata": {
        "id": "fJT1S-gihJ-e"
      }
    },
    {
      "cell_type": "code",
      "execution_count": null,
      "source": [
        "# Optional: HW5 Test out a generic X11 app\r\n",
        "!apt-get install x11-apps\r\n",
        "\r\n",
        "# HW5 and Project, check that your port 6000 (forward the port on your router)\r\n",
        "# and get your external ip address is open https://www.yougetsignal.com/tools/open-ports/\r\n",
        "# FOR WINDOWS INSTALL XMING (X WINDOW MANAGER), then launch XLAUNCH, ensure you check the 'no access control' to disable it.\r\n",
        "# !export DISPLAY=<YOUR_IP_ADDRESS_HERE>:0.0\r\n",
        "\r\n",
        "!export DISPLAY=172.93.177.164:0.0\r\n",
        "\r\n",
        "# !xeyes"
      ],
      "outputs": [
        {
          "output_type": "stream",
          "name": "stdout",
          "text": [
            "Requirement already satisfied: Pillow in /usr/local/lib/python3.7/dist-packages (from -r requirements.txt (line 1)) (7.1.2)\n",
            "Requirement already satisfied: future in /usr/local/lib/python3.7/dist-packages (from -r requirements.txt (line 2)) (0.16.0)\n",
            "Requirement already satisfied: matplotlib in /usr/local/lib/python3.7/dist-packages (from -r requirements.txt (line 3)) (3.2.2)\n",
            "Requirement already satisfied: numpy in /usr/local/lib/python3.7/dist-packages (from -r requirements.txt (line 4)) (1.19.5)\n",
            "Requirement already satisfied: tensorboard>=1.14 in /usr/local/lib/python3.7/dist-packages (from -r requirements.txt (line 5)) (2.5.0)\n",
            "Requirement already satisfied: torch>=1.6.0 in /usr/local/lib/python3.7/dist-packages (from -r requirements.txt (line 6)) (1.9.0+cu102)\n",
            "Requirement already satisfied: torchvision>=0.7.0 in /usr/local/lib/python3.7/dist-packages (from -r requirements.txt (line 7)) (0.10.0+cu102)\n",
            "Collecting PySuperTuxKart\n",
            "  Downloading PySuperTuxKart-1.0.3.tar.gz (24.2 MB)\n",
            "\u001b[K     |████████████████████████████████| 24.2 MB 1.5 MB/s \n",
            "\u001b[?25hRequirement already satisfied: markdown>=2.6.8 in /usr/local/lib/python3.7/dist-packages (from tensorboard>=1.14->-r requirements.txt (line 5)) (3.3.4)\n",
            "Requirement already satisfied: werkzeug>=0.11.15 in /usr/local/lib/python3.7/dist-packages (from tensorboard>=1.14->-r requirements.txt (line 5)) (1.0.1)\n",
            "Requirement already satisfied: grpcio>=1.24.3 in /usr/local/lib/python3.7/dist-packages (from tensorboard>=1.14->-r requirements.txt (line 5)) (1.34.1)\n",
            "Requirement already satisfied: google-auth-oauthlib<0.5,>=0.4.1 in /usr/local/lib/python3.7/dist-packages (from tensorboard>=1.14->-r requirements.txt (line 5)) (0.4.4)\n",
            "Requirement already satisfied: setuptools>=41.0.0 in /usr/local/lib/python3.7/dist-packages (from tensorboard>=1.14->-r requirements.txt (line 5)) (57.2.0)\n",
            "Requirement already satisfied: tensorboard-plugin-wit>=1.6.0 in /usr/local/lib/python3.7/dist-packages (from tensorboard>=1.14->-r requirements.txt (line 5)) (1.8.0)\n",
            "Requirement already satisfied: wheel>=0.26 in /usr/local/lib/python3.7/dist-packages (from tensorboard>=1.14->-r requirements.txt (line 5)) (0.36.2)\n",
            "Requirement already satisfied: protobuf>=3.6.0 in /usr/local/lib/python3.7/dist-packages (from tensorboard>=1.14->-r requirements.txt (line 5)) (3.17.3)\n",
            "Requirement already satisfied: absl-py>=0.4 in /usr/local/lib/python3.7/dist-packages (from tensorboard>=1.14->-r requirements.txt (line 5)) (0.12.0)\n",
            "Requirement already satisfied: requests<3,>=2.21.0 in /usr/local/lib/python3.7/dist-packages (from tensorboard>=1.14->-r requirements.txt (line 5)) (2.23.0)\n",
            "Requirement already satisfied: tensorboard-data-server<0.7.0,>=0.6.0 in /usr/local/lib/python3.7/dist-packages (from tensorboard>=1.14->-r requirements.txt (line 5)) (0.6.1)\n",
            "Requirement already satisfied: google-auth<2,>=1.6.3 in /usr/local/lib/python3.7/dist-packages (from tensorboard>=1.14->-r requirements.txt (line 5)) (1.32.1)\n",
            "Requirement already satisfied: typing-extensions in /usr/local/lib/python3.7/dist-packages (from torch>=1.6.0->-r requirements.txt (line 6)) (3.7.4.3)\n",
            "Requirement already satisfied: six in /usr/local/lib/python3.7/dist-packages (from absl-py>=0.4->tensorboard>=1.14->-r requirements.txt (line 5)) (1.15.0)\n",
            "Requirement already satisfied: pyasn1-modules>=0.2.1 in /usr/local/lib/python3.7/dist-packages (from google-auth<2,>=1.6.3->tensorboard>=1.14->-r requirements.txt (line 5)) (0.2.8)\n",
            "Requirement already satisfied: cachetools<5.0,>=2.0.0 in /usr/local/lib/python3.7/dist-packages (from google-auth<2,>=1.6.3->tensorboard>=1.14->-r requirements.txt (line 5)) (4.2.2)\n",
            "Requirement already satisfied: rsa<5,>=3.1.4 in /usr/local/lib/python3.7/dist-packages (from google-auth<2,>=1.6.3->tensorboard>=1.14->-r requirements.txt (line 5)) (4.7.2)\n",
            "Requirement already satisfied: requests-oauthlib>=0.7.0 in /usr/local/lib/python3.7/dist-packages (from google-auth-oauthlib<0.5,>=0.4.1->tensorboard>=1.14->-r requirements.txt (line 5)) (1.3.0)\n",
            "Requirement already satisfied: importlib-metadata in /usr/local/lib/python3.7/dist-packages (from markdown>=2.6.8->tensorboard>=1.14->-r requirements.txt (line 5)) (4.6.1)\n",
            "Requirement already satisfied: pyasn1<0.5.0,>=0.4.6 in /usr/local/lib/python3.7/dist-packages (from pyasn1-modules>=0.2.1->google-auth<2,>=1.6.3->tensorboard>=1.14->-r requirements.txt (line 5)) (0.4.8)\n",
            "Requirement already satisfied: idna<3,>=2.5 in /usr/local/lib/python3.7/dist-packages (from requests<3,>=2.21.0->tensorboard>=1.14->-r requirements.txt (line 5)) (2.10)\n",
            "Requirement already satisfied: urllib3!=1.25.0,!=1.25.1,<1.26,>=1.21.1 in /usr/local/lib/python3.7/dist-packages (from requests<3,>=2.21.0->tensorboard>=1.14->-r requirements.txt (line 5)) (1.24.3)\n",
            "Requirement already satisfied: chardet<4,>=3.0.2 in /usr/local/lib/python3.7/dist-packages (from requests<3,>=2.21.0->tensorboard>=1.14->-r requirements.txt (line 5)) (3.0.4)\n",
            "Requirement already satisfied: certifi>=2017.4.17 in /usr/local/lib/python3.7/dist-packages (from requests<3,>=2.21.0->tensorboard>=1.14->-r requirements.txt (line 5)) (2021.5.30)\n",
            "Requirement already satisfied: oauthlib>=3.0.0 in /usr/local/lib/python3.7/dist-packages (from requests-oauthlib>=0.7.0->google-auth-oauthlib<0.5,>=0.4.1->tensorboard>=1.14->-r requirements.txt (line 5)) (3.1.1)\n",
            "Requirement already satisfied: kiwisolver>=1.0.1 in /usr/local/lib/python3.7/dist-packages (from matplotlib->-r requirements.txt (line 3)) (1.3.1)\n",
            "Requirement already satisfied: cycler>=0.10 in /usr/local/lib/python3.7/dist-packages (from matplotlib->-r requirements.txt (line 3)) (0.10.0)\n",
            "Requirement already satisfied: pyparsing!=2.0.4,!=2.1.2,!=2.1.6,>=2.0.1 in /usr/local/lib/python3.7/dist-packages (from matplotlib->-r requirements.txt (line 3)) (2.4.7)\n",
            "Requirement already satisfied: python-dateutil>=2.1 in /usr/local/lib/python3.7/dist-packages (from matplotlib->-r requirements.txt (line 3)) (2.8.1)\n",
            "Requirement already satisfied: zipp>=0.5 in /usr/local/lib/python3.7/dist-packages (from importlib-metadata->markdown>=2.6.8->tensorboard>=1.14->-r requirements.txt (line 5)) (3.5.0)\n",
            "Building wheels for collected packages: PySuperTuxKart\n",
            "  Building wheel for PySuperTuxKart (setup.py) ... \u001b[?25l\u001b[?25hdone\n",
            "  Created wheel for PySuperTuxKart: filename=PySuperTuxKart-1.0.3-cp37-cp37m-linux_x86_64.whl size=625569486 sha256=866277dc4ef6a56618bfdecd75180f88747b55a0ec13af7374f74b30ea41f66c\n",
            "  Stored in directory: /root/.cache/pip/wheels/ad/13/2e/2c876efb556c7b3bf44e8ebae0f59eceba6a4585e1fc55b3a1\n",
            "Successfully built PySuperTuxKart\n",
            "Installing collected packages: PySuperTuxKart\n",
            "Successfully installed PySuperTuxKart-1.0.3\n"
          ]
        }
      ],
      "metadata": {
        "colab": {
          "base_uri": "https://localhost:8080/"
        },
        "id": "_DFsUdY7stH_",
        "outputId": "b5994cea-b597-4ec9-cde1-3273a2ccffac"
      }
    },
    {
      "cell_type": "code",
      "execution_count": null,
      "source": [
        "%pwd\r\n"
      ],
      "outputs": [
        {
          "output_type": "execute_result",
          "data": {
            "text/plain": [
              "'/content/drive/My Drive/UTAustin/DL/cs342/extra'"
            ],
            "application/vnd.google.colaboratory.intrinsic+json": {
              "type": "string"
            }
          },
          "metadata": {
            "tags": []
          },
          "execution_count": 5
        }
      ],
      "metadata": {
        "colab": {
          "base_uri": "https://localhost:8080/",
          "height": 35
        },
        "id": "Prok0FPtUack",
        "outputId": "b954fc52-6e1b-41c7-a8f0-c9e34984e4f9"
      }
    },
    {
      "cell_type": "code",
      "execution_count": null,
      "source": [
        "!python3 -m homework.train"
      ],
      "outputs": [
        {
          "output_type": "stream",
          "name": "stdout",
          "text": [
            "cuda\n",
            "Epoch 0\n",
            "validate\n",
            "Epoch 1\n",
            "Epoch 2\n",
            "Epoch 3\n",
            "Epoch 4\n",
            "Epoch 5\n",
            "Epoch 6\n",
            "Epoch 7\n",
            "Epoch 8\n",
            "Epoch 9\n",
            "Epoch 10\n",
            "Epoch 11\n",
            "Epoch 12\n",
            "Epoch 13\n",
            "Epoch 14\n",
            "Epoch 15\n",
            "Epoch 16\n",
            "Epoch 17\n",
            "Epoch 18\n",
            "Epoch 19\n",
            "Epoch 20\n",
            "Epoch 21\n",
            "Epoch 22\n",
            "Epoch 23\n",
            "Epoch 24\n",
            "Epoch 25\n",
            "validate\n",
            "Epoch 26\n",
            "Epoch 27\n",
            "Epoch 28\n",
            "Epoch 29\n",
            "Epoch 30\n",
            "Epoch 31\n",
            "Epoch 32\n",
            "Epoch 33\n",
            "Epoch 34\n",
            "Epoch 35\n",
            "Epoch 36\n",
            "Epoch 37\n",
            "Epoch 38\n",
            "Epoch 39\n"
          ]
        }
      ],
      "metadata": {
        "colab": {
          "base_uri": "https://localhost:8080/"
        },
        "id": "gYdxp5hcDWir",
        "outputId": "c4dceb8a-3cb6-422e-ccd1-fc85ae45e4e5"
      }
    },
    {
      "cell_type": "code",
      "execution_count": null,
      "source": [
        "# RUN CONTROLLER ON INDIVIDUAL TRACKS\r\n",
        "# !git pull origin main # OPTIONAL (GITHUB)\r\n",
        "#!python3 -m homework.controller 'lighthouse' -v\r\n",
        "!python3 -m homework.controller 'lighthouse' -v"
      ],
      "outputs": [
        {
          "output_type": "stream",
          "name": "stdout",
          "text": [
            "/usr/lib/python3.7/runpy.py:125: RuntimeWarning: 'homework.controller' found in sys.modules after import of package 'homework', but prior to execution of 'homework.controller'; this may result in unpredictable behaviour\n",
            "  warn(RuntimeWarning(msg))\n",
            "<Figure size 640x480 with 1 Axes>\n",
            "Finished at t=450\n",
            "450 1.00019041925464\n"
          ]
        }
      ],
      "metadata": {
        "id": "OTQJYbeY8WqI",
        "colab": {
          "base_uri": "https://localhost:8080/"
        },
        "outputId": "14a4c850-3a04-442d-b7bc-19a7fdd0d816"
      }
    },
    {
      "cell_type": "code",
      "execution_count": null,
      "source": [
        "# GENERATE DATA FOR ALL TRACKS USING CONTROLLER\r\n",
        "#!python3 -m homework.utils zengarden lighthouse hacienda snowtuxpeak cornfield_crossing scotland\r\n",
        "!python3 -m homework.utils zengarden lighthouse hacienda snowtuxpeak cornfield_crossing scotland"
      ],
      "outputs": [],
      "metadata": {
        "id": "_kocXrfY8n8z"
      }
    },
    {
      "cell_type": "code",
      "execution_count": null,
      "source": [
        "# OPTIONAL DOWNLOAD TRAINING DATA FROM COLAB # NOT REQUIRED WITH GDRIVE OPTION\r\n",
        "!zip -rq drive_data.zip drive_data\r\n",
        "!du -sh drive_data.zip\r\n",
        "from google.colab import files\r\n",
        "files.download('drive_data.zip')"
      ],
      "outputs": [],
      "metadata": {
        "id": "_4MRDlrf880z"
      }
    },
    {
      "cell_type": "code",
      "execution_count": null,
      "source": [
        "# OPTIONAL UPLOAD ZIPPED DATA TO COLAB, ALTERNATIVELY CAN USE COLAB # NOT REQUIRED WITH GDRIVE OPTION\r\n",
        "from google.colab import files\r\n",
        "drive_data_zip = files.upload()\r\n",
        "filename = tuple(drive_data_zip.keys())[0]\r\n",
        "!rm -rf drive_data\r\n",
        "!unzip $filename\r\n"
      ],
      "outputs": [],
      "metadata": {
        "id": "CMKVOMJU9F8n"
      }
    },
    {
      "cell_type": "code",
      "execution_count": null,
      "source": [
        "# LOAD TENSORBOARD\r\n",
        "%load_ext tensorboard\r\n",
        "%tensorboard --logdir . --port 6006"
      ],
      "outputs": [],
      "metadata": {
        "id": "aOfaBRyuypz3"
      }
    },
    {
      "cell_type": "markdown",
      "source": [
        "## 2. Sync and retrain\n",
        "\n",
        "You should run this cell after tweaking your code and pushing the changes to github.\n",
        "\n",
        "This cell does the following -\n",
        "\n",
        "* Pulls code changes\n",
        "* Trains model\n",
        "* Grades homework\n",
        "* Bundles\n",
        "* Downloads to your machine"
      ],
      "metadata": {
        "id": "NWnsaU_-4mOK"
      }
    },
    {
      "cell_type": "code",
      "execution_count": null,
      "source": [
        "# TRAIN OR RETRAIN\r\n",
        "#!git pull origin master # OPTIONAL (GITHUB)\r\n",
        "!python3 -m homework.train\r\n"
      ],
      "outputs": [
        {
          "output_type": "stream",
          "name": "stdout",
          "text": [
            "epoch 0   \t loss = 0.097\n",
            "epoch 1   \t loss = 0.081\n",
            "epoch 2   \t loss = 0.063\n",
            "epoch 3   \t loss = 0.057\n",
            "epoch 4   \t loss = 0.053\n",
            "epoch 5   \t loss = 0.050\n",
            "epoch 6   \t loss = 0.049\n",
            "epoch 7   \t loss = 0.047\n",
            "epoch 8   \t loss = 0.045\n",
            "epoch 9   \t loss = 0.044\n",
            "epoch 10  \t loss = 0.043\n",
            "epoch 11  \t loss = 0.042\n",
            "epoch 12  \t loss = 0.041\n",
            "epoch 13  \t loss = 0.040\n",
            "epoch 14  \t loss = 0.039\n",
            "epoch 15  \t loss = 0.038\n",
            "epoch 16  \t loss = 0.037\n",
            "epoch 17  \t loss = 0.037\n",
            "epoch 18  \t loss = 0.037\n",
            "epoch 19  \t loss = 0.035\n",
            "epoch 20  \t loss = 0.035\n",
            "epoch 21  \t loss = 0.034\n",
            "epoch 22  \t loss = 0.034\n",
            "epoch 23  \t loss = 0.033\n",
            "epoch 24  \t loss = 0.033\n",
            "epoch 25  \t loss = 0.032\n",
            "epoch 26  \t loss = 0.033\n",
            "epoch 27  \t loss = 0.032\n",
            "epoch 28  \t loss = 0.031\n",
            "epoch 29  \t loss = 0.031\n",
            "epoch 30  \t loss = 0.031\n",
            "epoch 31  \t loss = 0.030\n",
            "epoch 32  \t loss = 0.030\n",
            "epoch 33  \t loss = 0.030\n",
            "epoch 34  \t loss = 0.030\n",
            "epoch 35  \t loss = 0.029\n",
            "epoch 36  \t loss = 0.029\n",
            "epoch 37  \t loss = 0.028\n",
            "epoch 38  \t loss = 0.028\n",
            "epoch 39  \t loss = 0.028\n",
            "epoch 40  \t loss = 0.028\n",
            "epoch 41  \t loss = 0.028\n",
            "epoch 42  \t loss = 0.027\n",
            "epoch 43  \t loss = 0.028\n",
            "epoch 44  \t loss = 0.027\n",
            "epoch 45  \t loss = 0.027\n",
            "epoch 46  \t loss = 0.027\n",
            "epoch 47  \t loss = 0.027\n",
            "epoch 48  \t loss = 0.027\n",
            "epoch 49  \t loss = 0.026\n"
          ]
        }
      ],
      "metadata": {
        "id": "QI4KuT7p5Nqu",
        "colab": {
          "base_uri": "https://localhost:8080/"
        },
        "outputId": "160b327e-f786-45bc-c924-6f9c91233f68"
      }
    },
    {
      "cell_type": "code",
      "execution_count": null,
      "source": [
        "%ls"
      ],
      "outputs": [
        {
          "output_type": "stream",
          "name": "stdout",
          "text": [
            "bundle.py        cloudflared-stable-linux-amd64.tgz  \u001b[0m\u001b[01;34mgrader\u001b[0m/\n",
            "\u001b[01;32mcloudflared\u001b[0m*     \u001b[01;34mdrive_data\u001b[0m/                         \u001b[01;34mhomework\u001b[0m/\n",
            "cloudflared.log  environment.yml                     requirements.txt\n"
          ]
        }
      ],
      "metadata": {
        "colab": {
          "base_uri": "https://localhost:8080/"
        },
        "id": "IE3-clZ2vALU",
        "outputId": "5d23d0f1-bed8-4599-ffd8-7896d6b83eb1"
      }
    },
    {
      "cell_type": "code",
      "execution_count": null,
      "source": [
        "# GRADE SOLUTION\r\n",
        "!python3 -m grader homework -v"
      ],
      "outputs": [
        {
          "output_type": "stream",
          "name": "stdout",
          "text": [
            "Loading assignment\n",
            "Loading grader\n",
            " * Language modeling                                 \n",
            "  - beam_search                                        [ passed ]\n",
            "  - log_likelihood                                     [ passed ]\n",
            "  - sample_random                                      [ passed ]\n",
            " --------------------------------------------------    [  40 /  40 ]\n",
            "\n",
            " * TCN                                               \n",
            "  - TCN.forward causality                              [ passed ]\n",
            "  - TCN.predict_next/TCN.predict_all consistency       [ predict_next [-0.00125175  0.06587422 -0.02288964  0.11394405  0.09816822  0.16022028\n",
            "  0.04643854 -0.15071537  0.17755711  0.03877926 -0.01876032  0.09146877\n",
            "  0.16609314 -0.09789899 -0.01498835 -0.05836913  0.18854524 -0.2504193\n",
            "  0.21010453  0.14899087 -0.01552062  0.11536253 -0.01848905  0.07049704\n",
            "  0.16740613  0.02618618  0.25700074  0.03178327] inconsistent with predict_all [-0.0012517   0.06587423 -0.02288966  0.11394404  0.09816822  0.16022028\n",
            "  0.04643857 -0.15071538  0.17755707  0.03877924 -0.01876032  0.09146874\n",
            "  0.16609314 -0.09789895 -0.01498833 -0.05836911  0.18854523 -0.2504193\n",
            "  0.21010454  0.14899085 -0.01552065  0.11536255 -0.01848902  0.07049703\n",
            "  0.16740613  0.02618617  0.25700074  0.03178327] ]\n",
            "  - TCN.forward                                        [ passed ]\n",
            "  - TCN.predict_all                                    [ log likelihoods do not sum to 1 ]\n",
            "  - TCN.forward shape                                  [ passed ]\n",
            " --------------------------------------------------    [  13 /  20 ]\n",
            "\n",
            " * TrainedTCN                                        \n",
            "  - Accuracy                                           [ nll = -7.231 ]\n",
            " --------------------------------------------------    [  40 /  40 ]\n",
            "\n",
            "\n",
            "total score                                               93 / 100\n"
          ]
        }
      ],
      "metadata": {
        "id": "0dbvyC6mh8Hk",
        "colab": {
          "base_uri": "https://localhost:8080/"
        },
        "outputId": "38566e9a-3d2e-4485-9a09-28f606b0e375"
      }
    },
    {
      "cell_type": "code",
      "execution_count": null,
      "source": [
        "# PACKAGE SOLUTION\r\n",
        "!python3 bundle.py homework utid\r\n",
        "\r\n",
        "from google.colab import files; files.download('utid.zip')"
      ],
      "outputs": [],
      "metadata": {
        "id": "-47EG8lthzey",
        "colab": {
          "base_uri": "https://localhost:8080/",
          "height": 34
        },
        "outputId": "69c46042-ebc9-4ea4-a76b-a41cc7d22073"
      }
    }
  ]
}